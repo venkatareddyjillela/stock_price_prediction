{
  "nbformat": 4,
  "nbformat_minor": 0,
  "metadata": {
    "colab": {
      "name": "stock price prediction",
      "provenance": [],
      "collapsed_sections": []
    },
    "kernelspec": {
      "name": "python3",
      "display_name": "Python 3"
    },
    "accelerator": "TPU"
  },
  "cells": [
    {
      "cell_type": "code",
      "metadata": {
        "id": "1xCJj5YZ46gV"
      },
      "source": [
        "#Import the libraries\n",
        "import math\n",
        "import pandas_datareader as web\n",
        "import numpy as np\n",
        "import pandas as pd\n",
        "from sklearn.preprocessing import MinMaxScaler\n",
        "from keras.models import Sequential\n",
        "from keras.layers import Dense, LSTM\n",
        "import matplotlib.pyplot as plt\n",
        "plt.style.use('fivethirtyeight')\n"
      ],
      "execution_count": null,
      "outputs": []
    },
    {
      "cell_type": "code",
      "metadata": {
        "id": "_5gJIdLi0ADu",
        "colab": {
          "base_uri": "https://localhost:8080/",
          "height": 442
        },
        "outputId": "3d76f744-7b69-476d-9fc2-f7c413db6a2d"
      },
      "source": [
        "#Get the stock quote \n",
        "df = web.DataReader('AAPL', data_source='yahoo', start='2012-01-01', end='2020-10-27') \n",
        "#Show the data \n",
        "df"
      ],
      "execution_count": null,
      "outputs": [
        {
          "output_type": "execute_result",
          "data": {
            "text/html": [
              "<div>\n",
              "<style scoped>\n",
              "    .dataframe tbody tr th:only-of-type {\n",
              "        vertical-align: middle;\n",
              "    }\n",
              "\n",
              "    .dataframe tbody tr th {\n",
              "        vertical-align: top;\n",
              "    }\n",
              "\n",
              "    .dataframe thead th {\n",
              "        text-align: right;\n",
              "    }\n",
              "</style>\n",
              "<table border=\"1\" class=\"dataframe\">\n",
              "  <thead>\n",
              "    <tr style=\"text-align: right;\">\n",
              "      <th></th>\n",
              "      <th>High</th>\n",
              "      <th>Low</th>\n",
              "      <th>Open</th>\n",
              "      <th>Close</th>\n",
              "      <th>Volume</th>\n",
              "      <th>Adj Close</th>\n",
              "    </tr>\n",
              "    <tr>\n",
              "      <th>Date</th>\n",
              "      <th></th>\n",
              "      <th></th>\n",
              "      <th></th>\n",
              "      <th></th>\n",
              "      <th></th>\n",
              "      <th></th>\n",
              "    </tr>\n",
              "  </thead>\n",
              "  <tbody>\n",
              "    <tr>\n",
              "      <th>2012-01-03</th>\n",
              "      <td>14.732142</td>\n",
              "      <td>14.607142</td>\n",
              "      <td>14.621428</td>\n",
              "      <td>14.686786</td>\n",
              "      <td>302220800.0</td>\n",
              "      <td>12.691425</td>\n",
              "    </tr>\n",
              "    <tr>\n",
              "      <th>2012-01-04</th>\n",
              "      <td>14.810000</td>\n",
              "      <td>14.617143</td>\n",
              "      <td>14.642858</td>\n",
              "      <td>14.765715</td>\n",
              "      <td>260022000.0</td>\n",
              "      <td>12.759631</td>\n",
              "    </tr>\n",
              "    <tr>\n",
              "      <th>2012-01-05</th>\n",
              "      <td>14.948215</td>\n",
              "      <td>14.738214</td>\n",
              "      <td>14.819643</td>\n",
              "      <td>14.929643</td>\n",
              "      <td>271269600.0</td>\n",
              "      <td>12.901293</td>\n",
              "    </tr>\n",
              "    <tr>\n",
              "      <th>2012-01-06</th>\n",
              "      <td>15.098214</td>\n",
              "      <td>14.972143</td>\n",
              "      <td>14.991786</td>\n",
              "      <td>15.085714</td>\n",
              "      <td>318292800.0</td>\n",
              "      <td>13.036158</td>\n",
              "    </tr>\n",
              "    <tr>\n",
              "      <th>2012-01-09</th>\n",
              "      <td>15.276786</td>\n",
              "      <td>15.048214</td>\n",
              "      <td>15.196428</td>\n",
              "      <td>15.061786</td>\n",
              "      <td>394024400.0</td>\n",
              "      <td>13.015480</td>\n",
              "    </tr>\n",
              "    <tr>\n",
              "      <th>...</th>\n",
              "      <td>...</td>\n",
              "      <td>...</td>\n",
              "      <td>...</td>\n",
              "      <td>...</td>\n",
              "      <td>...</td>\n",
              "      <td>...</td>\n",
              "    </tr>\n",
              "    <tr>\n",
              "      <th>2020-10-21</th>\n",
              "      <td>118.709999</td>\n",
              "      <td>116.449997</td>\n",
              "      <td>116.669998</td>\n",
              "      <td>116.870003</td>\n",
              "      <td>89946000.0</td>\n",
              "      <td>116.870003</td>\n",
              "    </tr>\n",
              "    <tr>\n",
              "      <th>2020-10-22</th>\n",
              "      <td>118.040001</td>\n",
              "      <td>114.589996</td>\n",
              "      <td>117.449997</td>\n",
              "      <td>115.750000</td>\n",
              "      <td>101988000.0</td>\n",
              "      <td>115.750000</td>\n",
              "    </tr>\n",
              "    <tr>\n",
              "      <th>2020-10-23</th>\n",
              "      <td>116.550003</td>\n",
              "      <td>114.279999</td>\n",
              "      <td>116.389999</td>\n",
              "      <td>115.040001</td>\n",
              "      <td>82572600.0</td>\n",
              "      <td>115.040001</td>\n",
              "    </tr>\n",
              "    <tr>\n",
              "      <th>2020-10-26</th>\n",
              "      <td>116.550003</td>\n",
              "      <td>112.879997</td>\n",
              "      <td>114.010002</td>\n",
              "      <td>115.050003</td>\n",
              "      <td>111850700.0</td>\n",
              "      <td>115.050003</td>\n",
              "    </tr>\n",
              "    <tr>\n",
              "      <th>2020-10-27</th>\n",
              "      <td>117.279999</td>\n",
              "      <td>114.540001</td>\n",
              "      <td>115.489998</td>\n",
              "      <td>116.599998</td>\n",
              "      <td>92276800.0</td>\n",
              "      <td>116.599998</td>\n",
              "    </tr>\n",
              "  </tbody>\n",
              "</table>\n",
              "<p>2220 rows × 6 columns</p>\n",
              "</div>"
            ],
            "text/plain": [
              "                  High         Low  ...       Volume   Adj Close\n",
              "Date                                ...                         \n",
              "2012-01-03   14.732142   14.607142  ...  302220800.0   12.691425\n",
              "2012-01-04   14.810000   14.617143  ...  260022000.0   12.759631\n",
              "2012-01-05   14.948215   14.738214  ...  271269600.0   12.901293\n",
              "2012-01-06   15.098214   14.972143  ...  318292800.0   13.036158\n",
              "2012-01-09   15.276786   15.048214  ...  394024400.0   13.015480\n",
              "...                ...         ...  ...          ...         ...\n",
              "2020-10-21  118.709999  116.449997  ...   89946000.0  116.870003\n",
              "2020-10-22  118.040001  114.589996  ...  101988000.0  115.750000\n",
              "2020-10-23  116.550003  114.279999  ...   82572600.0  115.040001\n",
              "2020-10-26  116.550003  112.879997  ...  111850700.0  115.050003\n",
              "2020-10-27  117.279999  114.540001  ...   92276800.0  116.599998\n",
              "\n",
              "[2220 rows x 6 columns]"
            ]
          },
          "metadata": {
            "tags": []
          },
          "execution_count": 91
        }
      ]
    },
    {
      "cell_type": "code",
      "metadata": {
        "id": "LBimp_fWztlv",
        "colab": {
          "base_uri": "https://localhost:8080/"
        },
        "outputId": "decc6914-20d3-48cb-e6d4-206855361dc9"
      },
      "source": [
        "\n",
        "df.shape"
      ],
      "execution_count": null,
      "outputs": [
        {
          "output_type": "execute_result",
          "data": {
            "text/plain": [
              "(2220, 6)"
            ]
          },
          "metadata": {
            "tags": []
          },
          "execution_count": 92
        }
      ]
    },
    {
      "cell_type": "code",
      "metadata": {
        "id": "x_o_qob9KnB4",
        "colab": {
          "base_uri": "https://localhost:8080/",
          "height": 558
        },
        "outputId": "8e77d1b6-50eb-4c35-d647-79bcb3cdbcc7"
      },
      "source": [
        "#Visualize the closing price history\n",
        "plt.figure(figsize=(16,8))\n",
        "plt.title('Close Price History')\n",
        "plt.plot(df['Close'])\n",
        "plt.xlabel('Date',fontsize=18)\n",
        "plt.ylabel('Close Price USD ($)',fontsize=18)\n",
        "plt.show()\n"
      ],
      "execution_count": null,
      "outputs": [
        {
          "output_type": "display_data",
          "data": {
            "image/png": "[encoded data removed]",
            "text/plain": [
              "<Figure size 1152x576 with 1 Axes>"
            ]
          },
          "metadata": {
            "tags": []
          }
        }
      ]
    },
    {
      "cell_type": "code",
      "metadata": {
        "id": "OHwod75GKs1u"
      },
      "source": [
        "#Create a new dataframe with only the 'Close' column\n",
        "data = df.filter(['Close'])\n",
        "#Converting the dataframe to a numpy array\n",
        "dataset = data.values\n",
        "#Get /Compute the number of rows to train the model on\n",
        "training_data_len = math.ceil( len(dataset) *.8) \n"
      ],
      "execution_count": null,
      "outputs": []
    },
    {
      "cell_type": "code",
      "metadata": {
        "id": "fpNAS0NwLL7O"
      },
      "source": [
        "#Scale the all of the data to be values between 0 and 1 \n",
        "scaler = MinMaxScaler(feature_range=(0, 1)) \n",
        "scaled_data = scaler.fit_transform(dataset)\n"
      ],
      "execution_count": null,
      "outputs": []
    },
    {
      "cell_type": "code",
      "metadata": {
        "id": "fxHyntz_Ql8D"
      },
      "source": [
        "#Create the scaled training data set\n",
        "train_data = scaled_data[0:training_data_len , : ]"
      ],
      "execution_count": null,
      "outputs": []
    },
    {
      "cell_type": "code",
      "metadata": {
        "id": "ymp434QDQbRV"
      },
      "source": [
        "#Split the data into x_train and y_train data sets\n",
        "x_train=[] \n",
        "y_train = [] \n",
        "for i in range(60,len(train_data)):\n",
        "   x_train.append(train_data[i-60:i,0])\n",
        "   y_train.append(train_data[i,0])"
      ],
      "execution_count": null,
      "outputs": []
    },
    {
      "cell_type": "code",
      "metadata": {
        "id": "DyBXlCXQUDh6"
      },
      "source": [
        "\n",
        "#Convert x_train and y_train to numpy arrays\n",
        "x_train, y_train = np.array(x_train), np.array(y_train)"
      ],
      "execution_count": null,
      "outputs": []
    },
    {
      "cell_type": "code",
      "metadata": {
        "id": "C51MZhaXUDc9"
      },
      "source": [
        "\n",
        "#Reshape the data into the shape accepted by the LSTM\n",
        "x_train = np.reshape(x_train, (x_train.shape[0],x_train.shape[1],1))\n"
      ],
      "execution_count": null,
      "outputs": []
    },
    {
      "cell_type": "code",
      "metadata": {
        "id": "bRhXNHw5UIrd"
      },
      "source": [
        "\n",
        "#Build the LSTM network model\n",
        "model = Sequential()\n",
        "model.add(LSTM(units=50, return_sequences=True,input_shape=(x_train.shape[1],1)))\n",
        "model.add(LSTM(units=50, return_sequences=False))\n",
        "model.add(Dense(units=25))\n",
        "model.add(Dense(units=1))\n"
      ],
      "execution_count": null,
      "outputs": []
    },
    {
      "cell_type": "code",
      "metadata": {
        "id": "7eL1_mmbUdEY"
      },
      "source": [
        "#Compile the model\n",
        "model.compile(optimizer='adam', loss='mean_squared_error',metrics='accuracy')\n"
      ],
      "execution_count": null,
      "outputs": []
    },
    {
      "cell_type": "code",
      "metadata": {
        "id": "4Du1GmO_vkGa",
        "colab": {
          "base_uri": "https://localhost:8080/"
        },
        "outputId": "d75a2c82-940c-469d-eebe-c69ba18540c2"
      },
      "source": [
        "#Train the model\n",
        "\n",
        "model.fit(x_train, y_train, batch_size=1, epochs=1,verbose=2)"
      ],
      "execution_count": null,
      "outputs": [
        {
          "output_type": "stream",
          "text": [
            "1716/1716 - 37s - loss: 2.5528e-04 - accuracy: 5.8275e-04\n"
          ],
          "name": "stdout"
        },
        {
          "output_type": "execute_result",
          "data": {
            "text/plain": [
              "<tensorflow.python.keras.callbacks.History at 0x7f5409b62f60>"
            ]
          },
          "metadata": {
            "tags": []
          },
          "execution_count": 102
        }
      ]
    },
    {
      "cell_type": "code",
      "metadata": {
        "id": "PJ8Lhsy-UsOp"
      },
      "source": [
        "\n",
        "#Test data set\n",
        "test_data = scaled_data[training_data_len - 60: , : ]\n",
        "#Create the x_test and y_test data sets\n",
        "x_test = []\n",
        "y_test =  dataset[training_data_len : , : ] #Get all of the rows from index 1603 to the rest and all of the columns (in this case it's only column 'Close'), so 2003 - 1603 = 400 rows of data\n",
        "for i in range(60,len(test_data)):\n",
        "    x_test.append(test_data[i-60:i,0])\n",
        "\n"
      ],
      "execution_count": null,
      "outputs": []
    },
    {
      "cell_type": "code",
      "metadata": {
        "id": "SvwDZBD4Uw7D"
      },
      "source": [
        "#Convert x_test to a numpy array \n",
        "x_test = np.array(x_test)"
      ],
      "execution_count": null,
      "outputs": []
    },
    {
      "cell_type": "code",
      "metadata": {
        "id": "Ok-eRjuvU1ok"
      },
      "source": [
        "#Reshape the data into the shape accepted by the LSTM\n",
        "x_test = np.reshape(x_test, (x_test.shape[0],x_test.shape[1],1))\n"
      ],
      "execution_count": null,
      "outputs": []
    },
    {
      "cell_type": "code",
      "metadata": {
        "id": "GEUH2Q9GU9N5"
      },
      "source": [
        "#Getting the models predicted price values\n",
        "predictions = model.predict(x_test) \n",
        "predictions = scaler.inverse_transform(predictions)#Undo scaling\n",
        "\n"
      ],
      "execution_count": null,
      "outputs": []
    },
    {
      "cell_type": "code",
      "metadata": {
        "id": "bZzTI5hwVBfi",
        "colab": {
          "base_uri": "https://localhost:8080/"
        },
        "outputId": "2c352f8d-1db7-4b1c-e427-d19f5d816ad7"
      },
      "source": [
        "#Calculate/Get the value of RMSE\n",
        "rmse=np.sqrt(np.mean(((predictions- y_test)**2)))\n",
        "rmse"
      ],
      "execution_count": null,
      "outputs": [
        {
          "output_type": "execute_result",
          "data": {
            "text/plain": [
              "4.49975923826519"
            ]
          },
          "metadata": {
            "tags": []
          },
          "execution_count": 107
        }
      ]
    },
    {
      "cell_type": "code",
      "metadata": {
        "id": "_POh8yt-tI7J",
        "colab": {
          "base_uri": "https://localhost:8080/",
          "height": 1000
        },
        "outputId": "34920e48-8ab5-4844-f5cc-df6915f670de"
      },
      "source": [
        "#Plot/Create the data for the graph\n",
        "train = data[:training_data_len]\n",
        "valid = data[training_data_len:]\n",
        "valid['Predictions'] = predictions\n",
        "#Visualize the data\n",
        "plt.figure(figsize=(16,8))\n",
        "plt.title('Model')\n",
        "plt.xlabel('Date', fontsize=18)\n",
        "plt.ylabel('Close Price USD ($)', fontsize=18)\n",
        "plt.plot(train['Close'])\n",
        "plt.plot(valid[['Close', 'Predictions']])\n",
        "plt.legend(['Train', 'Val', 'Predictions'], loc='lower right')\n",
        "plt.show()\n",
        "\n",
        "\n",
        "#Show the valid and predicted prices\n",
        "valid\n",
        "\n"
      ],
      "execution_count": null,
      "outputs": [
        {
          "output_type": "stream",
          "text": [
            "/usr/local/lib/python3.6/dist-packages/ipykernel_launcher.py:4: SettingWithCopyWarning: \n",
            "A value is trying to be set on a copy of a slice from a DataFrame.\n",
            "Try using .loc[row_indexer,col_indexer] = value instead\n",
            "\n",
            "See the caveats in the documentation: https://pandas.pydata.org/pandas-docs/stable/user_guide/indexing.html#returning-a-view-versus-a-copy\n",
            "  after removing the cwd from sys.path.\n"
          ],
          "name": "stderr"
        },
        {
          "output_type": "display_data",
          "data": {
            "image/png": "[encoded data removed]",
            "text/plain": [
              "<Figure size 1152x576 with 1 Axes>"
            ]
          },
          "metadata": {
            "tags": []
          }
        },
        {
          "output_type": "execute_result",
          "data": {
            "text/html": [
              "<div>\n",
              "<style scoped>\n",
              "    .dataframe tbody tr th:only-of-type {\n",
              "        vertical-align: middle;\n",
              "    }\n",
              "\n",
              "    .dataframe tbody tr th {\n",
              "        vertical-align: top;\n",
              "    }\n",
              "\n",
              "    .dataframe thead th {\n",
              "        text-align: right;\n",
              "    }\n",
              "</style>\n",
              "<table border=\"1\" class=\"dataframe\">\n",
              "  <thead>\n",
              "    <tr style=\"text-align: right;\">\n",
              "      <th></th>\n",
              "      <th>Close</th>\n",
              "      <th>Predictions</th>\n",
              "    </tr>\n",
              "    <tr>\n",
              "      <th>Date</th>\n",
              "      <th></th>\n",
              "      <th></th>\n",
              "    </tr>\n",
              "  </thead>\n",
              "  <tbody>\n",
              "    <tr>\n",
              "      <th>2019-01-25</th>\n",
              "      <td>39.439999</td>\n",
              "      <td>37.888283</td>\n",
              "    </tr>\n",
              "    <tr>\n",
              "      <th>2019-01-28</th>\n",
              "      <td>39.075001</td>\n",
              "      <td>37.981773</td>\n",
              "    </tr>\n",
              "    <tr>\n",
              "      <th>2019-01-29</th>\n",
              "      <td>38.669998</td>\n",
              "      <td>38.077789</td>\n",
              "    </tr>\n",
              "    <tr>\n",
              "      <th>2019-01-30</th>\n",
              "      <td>41.312500</td>\n",
              "      <td>38.122787</td>\n",
              "    </tr>\n",
              "    <tr>\n",
              "      <th>2019-01-31</th>\n",
              "      <td>41.610001</td>\n",
              "      <td>38.415966</td>\n",
              "    </tr>\n",
              "    <tr>\n",
              "      <th>...</th>\n",
              "      <td>...</td>\n",
              "      <td>...</td>\n",
              "    </tr>\n",
              "    <tr>\n",
              "      <th>2020-10-21</th>\n",
              "      <td>116.870003</td>\n",
              "      <td>112.477356</td>\n",
              "    </tr>\n",
              "    <tr>\n",
              "      <th>2020-10-22</th>\n",
              "      <td>115.750000</td>\n",
              "      <td>112.066017</td>\n",
              "    </tr>\n",
              "    <tr>\n",
              "      <th>2020-10-23</th>\n",
              "      <td>115.040001</td>\n",
              "      <td>111.539955</td>\n",
              "    </tr>\n",
              "    <tr>\n",
              "      <th>2020-10-26</th>\n",
              "      <td>115.050003</td>\n",
              "      <td>110.947266</td>\n",
              "    </tr>\n",
              "    <tr>\n",
              "      <th>2020-10-27</th>\n",
              "      <td>116.599998</td>\n",
              "      <td>110.397369</td>\n",
              "    </tr>\n",
              "  </tbody>\n",
              "</table>\n",
              "<p>444 rows × 2 columns</p>\n",
              "</div>"
            ],
            "text/plain": [
              "                 Close  Predictions\n",
              "Date                               \n",
              "2019-01-25   39.439999    37.888283\n",
              "2019-01-28   39.075001    37.981773\n",
              "2019-01-29   38.669998    38.077789\n",
              "2019-01-30   41.312500    38.122787\n",
              "2019-01-31   41.610001    38.415966\n",
              "...                ...          ...\n",
              "2020-10-21  116.870003   112.477356\n",
              "2020-10-22  115.750000   112.066017\n",
              "2020-10-23  115.040001   111.539955\n",
              "2020-10-26  115.050003   110.947266\n",
              "2020-10-27  116.599998   110.397369\n",
              "\n",
              "[444 rows x 2 columns]"
            ]
          },
          "metadata": {
            "tags": []
          },
          "execution_count": 108
        }
      ]
    },
    {
      "cell_type": "code",
      "metadata": {
        "id": "NdQe5lNZVVq5",
        "colab": {
          "base_uri": "https://localhost:8080/"
        },
        "outputId": "b6402b6f-5b4b-4a7b-f6ba-61132326b243"
      },
      "source": [
        "\n",
        "\n",
        "#Get the quote\n",
        "apple_quote = web.DataReader('AAPL', data_source='yahoo', start='2012-01-01', end='2020-11-30')\n",
        "#Create a new dataframe\n",
        "new_df = apple_quote.filter(['Close'])\n",
        "#Get teh last 60 day closing price \n",
        "last_60_days = new_df[-60:].values\n",
        "#Scale the data to be values between 0 and 1\n",
        "last_60_days_scaled = scaler.transform(last_60_days)\n",
        "#Create an empty list\n",
        "X_test = []\n",
        "#Append teh past 60 days\n",
        "X_test.append(last_60_days_scaled)\n",
        "#Convert the X_test data set to a numpy array\n",
        "X_test = np.array(X_test)\n",
        "#Reshape the data\n",
        "X_test = np.reshape(X_test, (X_test.shape[0], X_test.shape[1], 1))\n",
        "#Get the predicted scaled price\n",
        "pred_price = model.predict(X_test)\n",
        "#undo the scaling \n",
        "pred_price = scaler.inverse_transform(pred_price)\n",
        "print(pred_price)\n",
        "pred_price = np.array(pred_price)\n",
        "pred_price\n",
        "\n",
        "\n"
      ],
      "execution_count": null,
      "outputs": [
        {
          "output_type": "stream",
          "text": [
            "[[106.027214]]\n"
          ],
          "name": "stdout"
        },
        {
          "output_type": "execute_result",
          "data": {
            "text/plain": [
              "array([[106.027214]], dtype=float32)"
            ]
          },
          "metadata": {
            "tags": []
          },
          "execution_count": 109
        }
      ]
    },
    {
      "cell_type": "code",
      "metadata": {
        "id": "5Ly7NIsEhrW1",
        "colab": {
          "base_uri": "https://localhost:8080/"
        },
        "outputId": "4a64b8c4-90f9-44dc-c6f2-da82fbab5270"
      },
      "source": [
        "#for 1 week\n",
        "i=0\n",
        "predictions_for_week = []\n",
        "predictions_for_week = np.append(predictions_for_week,pred_price)\n",
        "last_59_days = last_60_days[1:,0]\n",
        "\n",
        "while (i < 5):\n",
        "  #last 60 days -1 day\n",
        "  last_59_days_plus_pred = np.append(last_59_days,predictions_for_week).reshape(-1,1)\n",
        "  #print(last_59_days_plus_pred)\n",
        "  last_60_days_scaled_ = scaler.transform(last_59_days_plus_pred)\n",
        "  #Create an empty list\n",
        "  X_test_ = []\n",
        "  #Append the past 60 days\n",
        "  X_test_.append(last_60_days_scaled_)\n",
        "  #Convert the X_test data set to a numpy array\n",
        "  X_test_ = np.array(X_test_)\n",
        "  #Reshape the data\n",
        "  X_test_ = np.reshape(X_test_, (X_test_.shape[0], X_test_.shape[1], 1))\n",
        "  #Get the predicted scaled price\n",
        "  pred_price = model.predict(X_test_)\n",
        "  #undo the scaling \n",
        "  pred_price = scaler.inverse_transform(pred_price)\n",
        "  predictions_for_week = pred_price\n",
        "  print(predictions_for_week)\n",
        "  i= i+1\n",
        "  last_59_days = last_59_days[1:]\n",
        "  #print(last_59_days_plus_pred)\n",
        "\n",
        "\n",
        "#predictions_for_week\n",
        "#last_59_days,last_59_days_plus_pred"
      ],
      "execution_count": null,
      "outputs": [
        {
          "output_type": "stream",
          "text": [
            "[[105.11799]]\n",
            "[[105.117905]]\n",
            "[[105.11775]]\n",
            "[[105.11754]]\n",
            "[[105.11731]]\n"
          ],
          "name": "stdout"
        }
      ]
    },
    {
      "cell_type": "code",
      "metadata": {
        "id": "nfNCiPTSv3Yz"
      },
      "source": [
        ""
      ],
      "execution_count": null,
      "outputs": []
    },
    {
      "cell_type": "code",
      "metadata": {
        "id": "aaSheAeov3_F",
        "colab": {
          "base_uri": "https://localhost:8080/"
        },
        "outputId": "3656e68a-a0bc-47f3-a7f0-b53c6d80c440"
      },
      "source": [
        "#for 1 month\n",
        "i=0\n",
        "predictions_for_week = []\n",
        "predictions_for_week = np.append(predictions_for_week,pred_price)\n",
        "last_59_days = last_60_days[1:,]\n",
        "\n",
        "while (i < 20):\n",
        "  #last 60 days -1 day\n",
        "  last_59_days_plus_pred = np.append(last_59_days,predictions_for_week).reshape(-1,1)\n",
        "  #print(last_59_days_plus_pred)\n",
        "  last_60_days_scaled_ = scaler.transform(last_59_days_plus_pred)\n",
        "  #Create an empty list\n",
        "  X_test_ = []\n",
        "  #Append the past 60 days\n",
        "  X_test_.append(last_60_days_scaled_)\n",
        "  #Convert the X_test data set to a numpy array\n",
        "  X_test_ = np.array(X_test_)\n",
        "  #Reshape the data\n",
        "  X_test_ = np.reshape(X_test_, (X_test_.shape[0], X_test_.shape[1], 1))\n",
        "  #Get the predicted scaled price\n",
        "  pred_price = model.predict(X_test_)\n",
        "  #undo the scaling \n",
        "  pred_price = scaler.inverse_transform(pred_price)\n",
        "  predictions_for_week = pred_price\n",
        "  print(predictions_for_week)\n",
        "  i= i+1\n",
        "  last_59_days = last_59_days[1:,]\n",
        "  #print(last_59_days_plus_pred)\n",
        "\n",
        "\n",
        "#predictions_for_week\n",
        "#last_59_days,last_59_days_plus_pred"
      ],
      "execution_count": null,
      "outputs": [
        {
          "output_type": "stream",
          "text": [
            "[[105.11626]]\n",
            "[[105.11772]]\n",
            "[[105.11773]]\n",
            "[[105.11754]]\n",
            "[[105.11731]]\n",
            "[[105.117065]]\n",
            "[[105.11676]]\n",
            "[[105.1164]]\n",
            "[[105.11599]]\n",
            "[[105.115524]]\n",
            "[[105.114975]]\n",
            "[[105.114365]]\n",
            "[[105.11364]]\n",
            "[[105.11277]]\n",
            "[[105.111664]]\n",
            "[[105.11036]]\n",
            "[[105.10891]]\n",
            "[[105.10709]]\n",
            "[[105.10499]]\n",
            "[[105.1022]]\n"
          ],
          "name": "stdout"
        }
      ]
    },
    {
      "cell_type": "code",
      "metadata": {
        "id": "f6FgBpPsxPHh"
      },
      "source": [
        ""
      ],
      "execution_count": null,
      "outputs": []
    },
    {
      "cell_type": "code",
      "metadata": {
        "id": "5Y5y7qWKxPhl",
        "colab": {
          "base_uri": "https://localhost:8080/"
        },
        "outputId": "3656e68a-a0bc-47f3-a7f0-b53c6d80c440"
      },
      "source": [
        "#for 1 week\n",
        "i=0\n",
        "predictions_for_week = []\n",
        "#predictions_for_week = np.append(predictions_for_week,pred_price)\n",
        "\n",
        "\n",
        "while (i < 5):\n",
        "  #last 60 days -1 day\n",
        "  #last_59_days_plus_pred = np.append(last_59_days,predictions_for_week).reshape(-1,1)\n",
        "  #print(last_59_days_plus_pred)\n",
        "  last_60_days_scaled_ = scaler.transform()\n",
        "  #Create an empty list\n",
        "  X_test_ = []\n",
        "  #Append the past 60 days\n",
        "  X_test_.append(last_60_days_scaled_)\n",
        "  #Convert the X_test data set to a numpy array\n",
        "  X_test_ = np.array(X_test_)\n",
        "  #Reshape the data\n",
        "  X_test_ = np.reshape(X_test_, (X_test_.shape[0], X_test_.shape[1], 1))\n",
        "  #Get the predicted scaled price\n",
        "  pred_price = model.predict(X_test_)\n",
        "  #undo the scaling \n",
        "  pred_price = scaler.inverse_transform(pred_price)\n",
        "  predictions_for_week = pred_price\n",
        "  print(predictions_for_week)\n",
        "  i= i+1\n",
        "  last_59_days = last_59_days[1:,]\n",
        "  #print(last_59_days_plus_pred)\n",
        "\n",
        "\n",
        "#predictions_for_week\n",
        "#last_59_days,last_59_days_plus_pred"
      ],
      "execution_count": null,
      "outputs": [
        {
          "output_type": "stream",
          "text": [
            "[[105.11626]]\n",
            "[[105.11772]]\n",
            "[[105.11773]]\n",
            "[[105.11754]]\n",
            "[[105.11731]]\n",
            "[[105.117065]]\n",
            "[[105.11676]]\n",
            "[[105.1164]]\n",
            "[[105.11599]]\n",
            "[[105.115524]]\n",
            "[[105.114975]]\n",
            "[[105.114365]]\n",
            "[[105.11364]]\n",
            "[[105.11277]]\n",
            "[[105.111664]]\n",
            "[[105.11036]]\n",
            "[[105.10891]]\n",
            "[[105.10709]]\n",
            "[[105.10499]]\n",
            "[[105.1022]]\n"
          ],
          "name": "stdout"
        }
      ]
    },
    {
      "cell_type": "code",
      "metadata": {
        "id": "VAVbC0sgxmxt",
        "colab": {
          "base_uri": "https://localhost:8080/"
        },
        "outputId": "d6a45c16-2943-4218-e3a6-2d4db530c45e"
      },
      "source": [
        "#for 1 week\n",
        "i=0\n",
        "predictions_for_week_p = []\n",
        "###predictions_for_week = np.append(predictions_for_week,pred_price)\n",
        "last_59_days = last_60_days[1:,0]\n",
        "print(last_60_days_p.shape)\n",
        "while (i <= 5):\n",
        "  #last 60 days -1 day\n",
        "  #last_59_days_plus_pred = np.append(last_59_days,predictions_for_week).reshape(-1,1)\n",
        "  #print(last_59_days_plus_pred)\n",
        "  #last_60_days_scaled_p = scaler.transform(last_60_days_p).reshape(-1,1)\n",
        "  #Create an empty list\n",
        "  X_test_p = []\n",
        "  #Append the past 60 days\n",
        "  X_test_p.append(last_60_days_scaled_p)\n",
        "  #Convert the X_test data set to a numpy array\n",
        "  X_test_p = np.array(X_test_p)\n",
        "  #Reshape the data\n",
        "  X_test_p = np.reshape(X_test_p, (X_test_p.shape[0], X_test_p.shape[1], 1))\n",
        "  #Get the predicted scaled price\n",
        "  pred_price_p = model.predict(X_test_p)\n",
        "  #undo the scaling \n",
        "  pred_price_p = scaler.inverse_transform(pred_price_p)\n",
        "  #predictions_for_week_p = pred_price_p\n",
        "  predictions_for_week_p = np.append(predictions_for_week_p,pred_price_p)\n",
        "  #print(predictions_for_week_p)\n",
        "  i= i+1\n",
        "  last_59_days_p = last_60_days_p[1:,]\n",
        "  last_60_days_p =np.append( last_59_days_p,pred_price_p)\n",
        "  #print(last_59_days_plus_pred)\n",
        "\n",
        "\n",
        "#predictions_for_week\n",
        "#last_59_days,last_59_days_plus_pred"
      ],
      "execution_count": null,
      "outputs": [
        {
          "output_type": "stream",
          "text": [
            "(60,)\n"
          ],
          "name": "stdout"
        }
      ]
    },
    {
      "cell_type": "code",
      "metadata": {
        "id": "dZlObA7Mwetv"
      },
      "source": [
        ""
      ],
      "execution_count": null,
      "outputs": []
    },
    {
      "cell_type": "code",
      "metadata": {
        "id": "m8y7iOA7VaY_",
        "colab": {
          "base_uri": "https://localhost:8080/"
        },
        "outputId": "e918fd30-9adc-478d-ffd5-9944b69b1048"
      },
      "source": [
        "#Get the quote\n",
        "apple_quote2 = web.DataReader('AAPL', data_source='yahoo', start='2020-10-21', end='2020-10-27')\n",
        "print(apple_quote2['Close'])\n"
      ],
      "execution_count": null,
      "outputs": [
        {
          "output_type": "stream",
          "text": [
            "Date\n",
            "2020-10-21    116.870003\n",
            "2020-10-22    115.750000\n",
            "2020-10-23    115.040001\n",
            "2020-10-26    115.050003\n",
            "2020-10-27    116.599998\n",
            "Name: Close, dtype: float64\n"
          ],
          "name": "stdout"
        }
      ]
    },
    {
      "cell_type": "code",
      "metadata": {
        "id": "jRhONvGlZtud"
      },
      "source": [
        ""
      ],
      "execution_count": null,
      "outputs": []
    },
    {
      "cell_type": "code",
      "metadata": {
        "id": "I62pf0k3ZtsR"
      },
      "source": [
        ""
      ],
      "execution_count": null,
      "outputs": []
    },
    {
      "cell_type": "code",
      "metadata": {
        "id": "LFYUL6OkS5A2"
      },
      "source": [
        ""
      ],
      "execution_count": null,
      "outputs": []
    },
    {
      "cell_type": "code",
      "metadata": {
        "id": "-ZmO_5r6S37B"
      },
      "source": [
        ""
      ],
      "execution_count": null,
      "outputs": []
    },
    {
      "cell_type": "code",
      "metadata": {
        "id": "YPvh6GDpS35k"
      },
      "source": [
        ""
      ],
      "execution_count": null,
      "outputs": []
    }
  ]
}